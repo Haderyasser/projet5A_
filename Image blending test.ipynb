{
 "cells": [
  {
   "cell_type": "code",
   "execution_count": 1,
   "id": "ce4abf42",
   "metadata": {},
   "outputs": [],
   "source": [
    "from PIL import Image\n",
    "#import tensorflow.keras.preprocessing.image as kpi\n",
    "from random import randint\n",
    "import numpy as np\n",
    "import cv2\n",
    "import matplotlib.pyplot as plt"
   ]
  },
  {
   "cell_type": "markdown",
   "id": "b61597a9",
   "metadata": {},
   "source": [
    "Utilisation de la librairie PIL pour la création des images synthétiques par collages, les masques sont des images PNG de chardons."
   ]
  },
  {
   "cell_type": "markdown",
   "id": "781aec4d",
   "metadata": {},
   "source": [
    "###  Exemple avec une image"
   ]
  },
  {
   "cell_type": "code",
   "execution_count": 6,
   "id": "45166c1c",
   "metadata": {},
   "outputs": [
    {
     "name": "stdout",
     "output_type": "stream",
     "text": [
      "255\n",
      "(4056, 3040)\n"
     ]
    }
   ],
   "source": [
    "mask_path='mask/'\n",
    "img_path='images_background/'\n",
    "masking_insapath= 'Masking_insa/output/mask/'\n",
    "masking= Image.open(masking_insapath+'background3.jpg')\n",
    "colors = masking.getpixel((4055,3039))\n",
    "print(colors)\n",
    "background = Image.open(img_path+'background3.jpg' )\n",
    "bg_w, bg_h = background.size\n",
    "print(background.size)"
   ]
  },
  {
   "cell_type": "code",
   "execution_count": 7,
   "id": "66d6db30",
   "metadata": {},
   "outputs": [
    {
     "ename": "ValueError",
     "evalue": "images do not match",
     "output_type": "error",
     "traceback": [
      "\u001b[1;31m---------------------------------------------------------------------------\u001b[0m",
      "\u001b[1;31mValueError\u001b[0m                                Traceback (most recent call last)",
      "\u001b[1;32m<ipython-input-7-17cbdbdb9219>\u001b[0m in \u001b[0;36m<module>\u001b[1;34m\u001b[0m\n\u001b[0;32m      6\u001b[0m \u001b[0mbg_w\u001b[0m\u001b[1;33m,\u001b[0m \u001b[0mbg_h\u001b[0m \u001b[1;33m=\u001b[0m \u001b[0mbackground\u001b[0m\u001b[1;33m.\u001b[0m\u001b[0msize\u001b[0m\u001b[1;33m\u001b[0m\u001b[1;33m\u001b[0m\u001b[0m\n\u001b[0;32m      7\u001b[0m \u001b[1;31m#offset = ((bg_w - img_w) // 2, (bg_h - img_h) // 2)\u001b[0m\u001b[1;33m\u001b[0m\u001b[1;33m\u001b[0m\u001b[1;33m\u001b[0m\u001b[0m\n\u001b[1;32m----> 8\u001b[1;33m \u001b[0mbackground\u001b[0m\u001b[1;33m.\u001b[0m\u001b[0mpaste\u001b[0m\u001b[1;33m(\u001b[0m\u001b[0mimg\u001b[0m\u001b[1;33m,\u001b[0m\u001b[0mmasking\u001b[0m\u001b[1;33m)\u001b[0m\u001b[1;33m\u001b[0m\u001b[1;33m\u001b[0m\u001b[0m\n\u001b[0m\u001b[0;32m      9\u001b[0m \u001b[0mbackground\u001b[0m\u001b[1;33m.\u001b[0m\u001b[0msave\u001b[0m\u001b[1;33m(\u001b[0m\u001b[1;34m'result.png'\u001b[0m\u001b[1;33m)\u001b[0m\u001b[1;33m\u001b[0m\u001b[1;33m\u001b[0m\u001b[0m\n\u001b[0;32m     10\u001b[0m \u001b[0mbackground\u001b[0m\u001b[1;33m.\u001b[0m\u001b[0mshow\u001b[0m\u001b[1;33m(\u001b[0m\u001b[1;33m)\u001b[0m\u001b[1;33m\u001b[0m\u001b[1;33m\u001b[0m\u001b[0m\n",
      "\u001b[1;32m~\\anaconda3\\lib\\site-packages\\PIL\\Image.py\u001b[0m in \u001b[0;36mpaste\u001b[1;34m(self, im, box, mask)\u001b[0m\n\u001b[0;32m   1523\u001b[0m         \u001b[1;32mif\u001b[0m \u001b[0mmask\u001b[0m\u001b[1;33m:\u001b[0m\u001b[1;33m\u001b[0m\u001b[1;33m\u001b[0m\u001b[0m\n\u001b[0;32m   1524\u001b[0m             \u001b[0mmask\u001b[0m\u001b[1;33m.\u001b[0m\u001b[0mload\u001b[0m\u001b[1;33m(\u001b[0m\u001b[1;33m)\u001b[0m\u001b[1;33m\u001b[0m\u001b[1;33m\u001b[0m\u001b[0m\n\u001b[1;32m-> 1525\u001b[1;33m             \u001b[0mself\u001b[0m\u001b[1;33m.\u001b[0m\u001b[0mim\u001b[0m\u001b[1;33m.\u001b[0m\u001b[0mpaste\u001b[0m\u001b[1;33m(\u001b[0m\u001b[0mim\u001b[0m\u001b[1;33m,\u001b[0m \u001b[0mbox\u001b[0m\u001b[1;33m,\u001b[0m \u001b[0mmask\u001b[0m\u001b[1;33m.\u001b[0m\u001b[0mim\u001b[0m\u001b[1;33m)\u001b[0m\u001b[1;33m\u001b[0m\u001b[1;33m\u001b[0m\u001b[0m\n\u001b[0m\u001b[0;32m   1526\u001b[0m         \u001b[1;32melse\u001b[0m\u001b[1;33m:\u001b[0m\u001b[1;33m\u001b[0m\u001b[1;33m\u001b[0m\u001b[0m\n\u001b[0;32m   1527\u001b[0m             \u001b[0mself\u001b[0m\u001b[1;33m.\u001b[0m\u001b[0mim\u001b[0m\u001b[1;33m.\u001b[0m\u001b[0mpaste\u001b[0m\u001b[1;33m(\u001b[0m\u001b[0mim\u001b[0m\u001b[1;33m,\u001b[0m \u001b[0mbox\u001b[0m\u001b[1;33m)\u001b[0m\u001b[1;33m\u001b[0m\u001b[1;33m\u001b[0m\u001b[0m\n",
      "\u001b[1;31mValueError\u001b[0m: images do not match"
     ]
    }
   ],
   "source": [
    "# Open overlay image\n",
    "img = Image.open(mask_path+'mask1.png')\n",
    "\n",
    "img_w, img_h = img.size\n",
    "background = Image.open(img_path+'background1.jpg')\n",
    "bg_w, bg_h = background.size\n",
    "#offset = ((bg_w - img_w) // 2, (bg_h - img_h) // 2)\n",
    "background.paste(img,masking)\n",
    "background.save('result.png')\n",
    "background.show()\n"
   ]
  },
  {
   "cell_type": "markdown",
   "id": "4b424189",
   "metadata": {},
   "source": [
    "### Fonction de génération\n",
    "\n",
    "Les masques, les backgrounds ainsi que les positions des chardons sont sélectionnés aléatoirement."
   ]
  },
  {
   "cell_type": "code",
   "execution_count": 8,
   "id": "c246dbea",
   "metadata": {},
   "outputs": [],
   "source": [
    "def createxy(x,y):\n",
    "    x_normal=4060\n",
    "    y_normal=3050\n",
    "    while (x_normal > 4055 or y_normal > 3039) :\n",
    "        x_normal=np.random.normal(x,120)\n",
    "        y_normal=np.random.normal(y,120)\n",
    "    return x_normal,y_normal"
   ]
  },
  {
   "cell_type": "code",
   "execution_count": 9,
   "id": "9c07c996",
   "metadata": {},
   "outputs": [],
   "source": [
    "def img_generation(mask_path,img_path,N):\n",
    "    #mask_path='mask/'\n",
    "    #img_path='images_background/'\n",
    "    \n",
    "    for i in range(0,N):     \n",
    "        b_rand=randint(1,4)#randomiser l'image de fond\n",
    "        \n",
    "        nb_chardon=randint(8,10)#nombre de chardons\n",
    "        nb_gangs=randint(1,4)\n",
    "        #print(b_rand)\n",
    "        background = Image.open(img_path+'background%d.jpg' %(b_rand))\n",
    "        bg_w, bg_h = background.size\n",
    "        \n",
    "        file = open(\"generated_images/coordinates%d.txt\" %(i),\"a\")\n",
    "        file.truncate(0)\n",
    "        for j in range(1):\n",
    "            #background = Image.open(img_path+'background%d.jpg' %(b_rand))\n",
    "            #bg_w, bg_h = background.size\n",
    "            \n",
    "            x_rand=randint(0,bg_w)#randomiser la position\n",
    "            y_rand=randint(0,bg_h)#randomiser la position\n",
    "            for k in range(1,nb_chardon):\n",
    "                m_rand=randint(1,30)#randomiser le mask\n",
    "                angle_rand=randint(0,360)#randomiser l'angle de rotation\n",
    "                foreground = Image.open(mask_path+'mask%d.png' %(m_rand))\n",
    "                foreground.rotate(angle_rand)\n",
    "                masking_insa=Image.open(masking_insapath+'background%d.jpg' %(b_rand))\n",
    "                x_normal=createxy(x_rand,y_rand)[0]\n",
    "                y_normal=createxy(y_rand,y_rand)[1]\n",
    "                while masking_insa.getpixel((int(x_normal),int(y_normal)))!=0 :\n",
    "                    x_normal=createxy(x_rand,y_rand)[0]\n",
    "                    y_normal=createxy(y_rand,y_rand)[1]\n",
    "                m_w,m_h=foreground.size\n",
    "                file.write(str(int(x_normal)) +\" \" +str(int(y_normal))+ \" \"+str(int(x_normal)+m_w) +\" \"\n",
    "                +str(int(y_normal)+m_h)+\"\\n\")\n",
    "\n",
    "                background.paste(foreground, (int(x_normal), int(y_normal)),foreground)#retirer le \"foreground\" pour avoir le fond noir\n",
    "        file.close()\n",
    "        background.save('generated_images/generated%d.png' %(i))"
   ]
  },
  {
   "cell_type": "code",
   "execution_count": 5,
   "id": "1d2dfc4c",
   "metadata": {
    "scrolled": true
   },
   "outputs": [
    {
     "ename": "NameError",
     "evalue": "name 'mask_path' is not defined",
     "output_type": "error",
     "traceback": [
      "\u001b[1;31m---------------------------------------------------------------------------\u001b[0m",
      "\u001b[1;31mNameError\u001b[0m                                 Traceback (most recent call last)",
      "\u001b[1;32m<ipython-input-5-9763ca3c9495>\u001b[0m in \u001b[0;36m<module>\u001b[1;34m\u001b[0m\n\u001b[1;32m----> 1\u001b[1;33m \u001b[0mimg_generation\u001b[0m\u001b[1;33m(\u001b[0m\u001b[0mmask_path\u001b[0m\u001b[1;33m,\u001b[0m\u001b[0mimg_path\u001b[0m\u001b[1;33m,\u001b[0m\u001b[1;36m10\u001b[0m\u001b[1;33m)\u001b[0m\u001b[1;33m\u001b[0m\u001b[1;33m\u001b[0m\u001b[0m\n\u001b[0m",
      "\u001b[1;31mNameError\u001b[0m: name 'mask_path' is not defined"
     ]
    }
   ],
   "source": [
    "img_generation(mask_path,img_path,10)"
   ]
  },
  {
   "cell_type": "markdown",
   "id": "a17518b2",
   "metadata": {},
   "source": [
    "## Poisson editing\n",
    "\n",
    "les deux focntions suivantes servent à la création des masks et sources pour l'algorithme de poisson editing"
   ]
  },
  {
   "cell_type": "code",
   "execution_count": 10,
   "id": "5064d5cd",
   "metadata": {},
   "outputs": [],
   "source": [
    "def img_generation2(mask_path,img_path,N):\n",
    "    #mask_path='mask/'\n",
    "    #img_path='images_background/'\n",
    "    \n",
    "    for i in range(0,N):     \n",
    "        b_rand=randint(1,4)#randomiser l'image de fond\n",
    "        \n",
    "        #nb_chardon=randint(8,10)#nombre de chardons\n",
    "        nb_chardon=1\n",
    "        nb_gangs=randint(2,3)\n",
    "        #print(b_rand)\n",
    "        background = Image.open(img_path+'background%d.jpg' %(b_rand))\n",
    "        bg_w, bg_h = background.size\n",
    "        bg = Image.new('RGB', (4056, 3040))\n",
    "        file = open(\"generated_paste/coordinates%d.txt\" %(i),\"a\")\n",
    "        file.truncate(0)\n",
    "        #for j in range(1,nb_gangs+1):\n",
    "        for j in range(1):\n",
    "            #background = Image.open(img_path+'background%d.jpg' %(b_rand))\n",
    "            #bg_w, bg_h = background.size\n",
    "            \n",
    "            x_rand=randint(0,bg_w)#randomiser la position\n",
    "            y_rand=randint(0,bg_h)#randomiser la position\n",
    "            for k in range(nb_chardon):\n",
    "                m_rand=randint(1,30)#randomiser le mask\n",
    "                angle_rand=randint(0,360)#randomiser l'angle de rotation\n",
    "                foreground = Image.open(mask_path+'mask%d.png' %(m_rand))\n",
    "                foreground.rotate(angle_rand)\n",
    "                masking_insa=Image.open(masking_insapath+'background%d.jpg' %(b_rand))\n",
    "                x_normal=createxy(x_rand,y_rand)[0]\n",
    "                y_normal=createxy(y_rand,y_rand)[1]\n",
    "                while masking_insa.getpixel((int(x_normal),int(y_normal)))!=0 :\n",
    "                    x_normal=createxy(x_rand,y_rand)[0]\n",
    "                    y_normal=createxy(y_rand,y_rand)[1]\n",
    "                m_w,m_h=foreground.size\n",
    "                file.write(str(int(x_normal)) +\" \" +str(int(y_normal))+ \" \"+str(int(x_normal)+m_w) +\" \"\n",
    "                +str(int(y_normal)+m_h)+\"\\n\")\n",
    "                \n",
    "                \n",
    "                bg.paste(foreground, (int(x_normal), int(y_normal)),foreground)#retirer le \"foreground\" pour avoir le fond noir\n",
    "        file.close()\n",
    "        bg.save('generated_paste/paste%d.png' %(i))"
   ]
  },
  {
   "cell_type": "code",
   "execution_count": 7,
   "id": "897d07c9",
   "metadata": {},
   "outputs": [],
   "source": [
    "img_generation2(mask_path,img_path,10)"
   ]
  },
  {
   "cell_type": "code",
   "execution_count": 8,
   "id": "9e93cef2",
   "metadata": {},
   "outputs": [],
   "source": [
    "def mask_creation(N):\n",
    "    for i in range(N):\n",
    "        im = Image.open('generated_paste/paste%d.png' %(i))\n",
    "\n",
    "        # Make Numpy array\n",
    "        ni = np.array(im)\n",
    "\n",
    "        \n",
    "        reds=(ni[:,:,0]!=0)\n",
    "        greens=(ni[:,:,1]!=0)\n",
    "        blues = (ni[:,:,2]!=0)\n",
    "        mask = np.logical_or(reds,greens,blues)\n",
    "        # Save logical mask as PNG\n",
    "        #Image.fromarray((blues*255).astype(np.uint8)).save('result.png')\n",
    "        Image.fromarray((mask*255).astype(np.uint8)).save('generated_masks/mask%d.png' %(i))"
   ]
  },
  {
   "cell_type": "code",
   "execution_count": 12,
   "id": "dfc8153b",
   "metadata": {},
   "outputs": [],
   "source": [
    "        im = Image.open('paste_v3.png')\n",
    "\n",
    "        # Make Numpy array\n",
    "        ni = np.array(im)\n",
    "\n",
    "        \n",
    "        reds=(ni[:,:,0]!=0)\n",
    "        greens=(ni[:,:,1]!=0)\n",
    "        blues = (ni[:,:,2]!=0)\n",
    "        mask = np.logical_or(reds,greens,blues)\n",
    "        # Save logical mask as PNG\n",
    "        #Image.fromarray((blues*255).astype(np.uint8)).save('result.png')\n",
    "        Image.fromarray((mask*255).astype(np.uint8)).save('mask_v3.png')"
   ]
  },
  {
   "cell_type": "code",
   "execution_count": 9,
   "id": "7e82eed5",
   "metadata": {},
   "outputs": [],
   "source": [
    "mask_creation(10)"
   ]
  },
  {
   "cell_type": "markdown",
   "id": "fab700ab",
   "metadata": {},
   "source": [
    "## Xml creation"
   ]
  },
  {
   "cell_type": "code",
   "execution_count": 13,
   "id": "8b398530",
   "metadata": {},
   "outputs": [],
   "source": [
    "import xml.etree.ElementTree as ET\n",
    "import cv2\n",
    "import numpy as np\n",
    "import matplotlib.pyplot as plt\n",
    "\n",
    "def get_annots_from_xml(path):\n",
    "    \"\"\"\n",
    "    Récupère les annotations contenues dans un fichier .xml au format Pascal VOC.\n",
    "    Retourne un array utilisable en entrée des modèles Tensorflow et des fonctions d'affichage.\n",
    "    \"\"\"\n",
    "    tree = ET.parse(path)\n",
    "    root = tree.getroot()\n",
    "    \n",
    "    size_x = int(root.findall('size')[0][0].text)\n",
    "    size_y = int(root.findall('size')[0][1].text)\n",
    "    objects_annot = root.findall('object')\n",
    "    arr_box_annot = np.zeros((len(objects_annot), 4), dtype=np.float32)\n",
    "\n",
    "    for i, box_annot in enumerate(root.findall('object')):\n",
    "        arr_box_annot[i, :] = [int(box_annot[4][1].text) / size_y,\n",
    "                               int(box_annot[4][0].text) / size_x,\n",
    "                               int(box_annot[4][3].text) / size_y,\n",
    "                               int(box_annot[4][2].text) / size_x]\n",
    "    return arr_box_annot\n",
    "\n",
    "def create_xml_from_detection(path_xml, detection_boxes, detection_scores,\n",
    "                              seuil_detection, name_image, path_image, width, height, depth):\n",
    "    \"\"\"\n",
    "    Génère un XML au format Pascal VOC contenant les annotations détectées avec une confiance supérieure au seuil.\n",
    "    \"\"\"\n",
    "    # Création de la racine du document et des infos générales\n",
    "    root = ET.Element(\"annotation\")\n",
    "    ET.SubElement(root, \"folder\").text = \"patchs\"\n",
    "    ET.SubElement(root, \"filename\").text = str(name_image)\n",
    "    ET.SubElement(root, \"path\").text = str(path_image)\n",
    "    source = ET.SubElement(root, \"source\")\n",
    "    ET.SubElement(source, \"database\").text = \"Detection\"\n",
    "    size = ET.SubElement(root, \"size\")\n",
    "    ET.SubElement(size, \"width\").text = str(width)\n",
    "    ET.SubElement(size, \"height\").text = str(height)\n",
    "    ET.SubElement(size, \"depth\").text = str(depth)\n",
    "    ET.SubElement(root, \"segmented\").text = \"0\"\n",
    "    \n",
    "    # Nombre de bounding boxes détectées avec assez de confiance\n",
    "    nb_boxes = np.sum(detection_scores >= seuil_detection)\n",
    "    \n",
    "    # Création de chaque bounding box\n",
    "    # Le modèle renvoie les bounding boxes par ordre décroissant de confiance\n",
    "    for i in range(nb_boxes):\n",
    "        arr_boxes = np.array(detection_boxes)[i, :]\n",
    "        obj = ET.SubElement(root, \"object\")\n",
    "        ET.SubElement(obj, \"name\").text = \"chardon\"\n",
    "        ET.SubElement(obj, \"pose\").text = \"Unspecified\"\n",
    "        ET.SubElement(obj, \"truncated\").text = \"0\"\n",
    "        ET.SubElement(obj, \"difficult\").text = \"0\"\n",
    "        bndbox = ET.SubElement(obj, \"bndbox\")\n",
    "        ET.SubElement(bndbox, \"xmin\").text = str(int(np.round(arr_boxes[1] * width)))\n",
    "        ET.SubElement(bndbox, \"ymin\").text = str(int(np.round(arr_boxes[0] * height)))\n",
    "        ET.SubElement(bndbox, \"xmax\").text = str(int(np.round(arr_boxes[3] * width)))\n",
    "        ET.SubElement(bndbox, \"ymax\").text = str(int(np.round(arr_boxes[2] * height)))\n",
    "                                                    \n",
    "    # Assemblage de l'arbre\n",
    "    tree = ET.ElementTree(root)\n",
    "    \n",
    "    # Ecriture du fichier\n",
    "    tree.write(path_xml)"
   ]
  },
  {
   "cell_type": "code",
   "execution_count": 13,
   "id": "136fb2f9",
   "metadata": {},
   "outputs": [
    {
     "ename": "NameError",
     "evalue": "name 'create_xml_from_detection' is not defined",
     "output_type": "error",
     "traceback": [
      "\u001b[1;31m---------------------------------------------------------------------------\u001b[0m",
      "\u001b[1;31mNameError\u001b[0m                                 Traceback (most recent call last)",
      "\u001b[1;32m<ipython-input-13-f4c49c07a74b>\u001b[0m in \u001b[0;36m<module>\u001b[1;34m\u001b[0m\n\u001b[0;32m      2\u001b[0m \u001b[1;32mfor\u001b[0m \u001b[0mi\u001b[0m \u001b[1;32min\u001b[0m \u001b[0mrange\u001b[0m\u001b[1;33m(\u001b[0m\u001b[0mnb_images\u001b[0m\u001b[1;33m)\u001b[0m\u001b[1;33m:\u001b[0m\u001b[1;33m\u001b[0m\u001b[1;33m\u001b[0m\u001b[0m\n\u001b[0;32m      3\u001b[0m     \u001b[0mannots\u001b[0m\u001b[1;33m=\u001b[0m\u001b[0mnp\u001b[0m\u001b[1;33m.\u001b[0m\u001b[0mloadtxt\u001b[0m\u001b[1;33m(\u001b[0m\u001b[1;34m\"generated_images/coordinates%d.txt\"\u001b[0m\u001b[1;33m%\u001b[0m\u001b[1;33m(\u001b[0m\u001b[0mi\u001b[0m\u001b[1;33m)\u001b[0m\u001b[1;33m,\u001b[0m\u001b[1;34m\"int\"\u001b[0m\u001b[1;33m)\u001b[0m\u001b[1;33m\u001b[0m\u001b[1;33m\u001b[0m\u001b[0m\n\u001b[1;32m----> 4\u001b[1;33m     create_xml_from_detection(\"generated_images/generated%d.xml\" %(i), annots, np.ones(annots.shape[0]),\n\u001b[0m\u001b[0;32m      5\u001b[0m                               0, \"generated%d.jpg\" %(i), \"generated_images/generated%d.jpg\" %(i), 1, 1, 3)\n",
      "\u001b[1;31mNameError\u001b[0m: name 'create_xml_from_detection' is not defined"
     ]
    }
   ],
   "source": [
    "nb_images=10\n",
    "for i in range(nb_images):\n",
    "    annots=np.loadtxt(\"generated_images/coordinates%d.txt\"%(i),\"int\")\n",
    "    create_xml_from_detection(\"generated_images/generated%d.xml\" %(i), annots, np.ones(annots.shape[0]),\n",
    "                              0, \"generated%d.jpg\" %(i), \"generated_images/generated%d.jpg\" %(i), 1, 1, 3)"
   ]
  },
  {
   "cell_type": "markdown",
   "id": "549ec636",
   "metadata": {},
   "source": [
    "## create patches"
   ]
  },
  {
   "cell_type": "code",
   "execution_count": 17,
   "id": "af57a32d",
   "metadata": {},
   "outputs": [],
   "source": [
    "HEIGHT_PATCH, WIDTH_PATCH = 400, 400\n",
    "\n",
    "\n",
    "def load_image_into_numpy_array(path):\n",
    "    img = cv2.cvtColor(cv2.imread(path, cv2.IMREAD_COLOR), cv2.COLOR_BGR2RGB)\n",
    "    return img"
   ]
  },
  {
   "cell_type": "code",
   "execution_count": null,
   "id": "e7e877c4",
   "metadata": {},
   "outputs": [],
   "source": []
  }
 ],
 "metadata": {
  "kernelspec": {
   "display_name": "Python 3",
   "language": "python",
   "name": "python3"
  },
  "language_info": {
   "codemirror_mode": {
    "name": "ipython",
    "version": 3
   },
   "file_extension": ".py",
   "mimetype": "text/x-python",
   "name": "python",
   "nbconvert_exporter": "python",
   "pygments_lexer": "ipython3",
   "version": "3.8.8"
  }
 },
 "nbformat": 4,
 "nbformat_minor": 5
}
